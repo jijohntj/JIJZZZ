{
  "nbformat": 4,
  "nbformat_minor": 0,
  "metadata": {
    "colab": {
      "name": "Circle and File ext",
      "provenance": [],
      "collapsed_sections": [],
      "authorship_tag": "ABX9TyNPW11A/E3GYIKs8MjscAqM",
      "include_colab_link": true
    },
    "kernelspec": {
      "name": "python3",
      "display_name": "Python 3"
    }
  },
  "cells": [
    {
      "cell_type": "markdown",
      "metadata": {
        "id": "view-in-github",
        "colab_type": "text"
      },
      "source": [
        "<a href=\"https://colab.research.google.com/github/jijohntj/JIJZZZ/blob/master/Circle%20and%20File%20EXT.ipynb\" target=\"_parent\"><img src=\"https://colab.research.google.com/assets/colab-badge.svg\" alt=\"Open In Colab\"/></a>"
      ]
    },
    {
      "cell_type": "code",
      "metadata": {
        "id": "laW6sP1QsWT6",
        "colab_type": "code",
        "colab": {
          "base_uri": "https://localhost:8080/",
          "height": 52
        },
        "outputId": "4f85c81e-5134-488b-b161-584c8acf0684"
      },
      "source": [
        "from math import pi\n",
        "r = float(input(\"Enter the radius of the circle: \"))\n",
        "print(\"Area of the circle is: \" + str(pi* r**2))"
      ],
      "execution_count": 20,
      "outputs": [
        {
          "output_type": "stream",
          "text": [
            "Enter the radius of the circle: 1.1\n",
            "Area of the circle is: 3.8013271108436504\n"
          ],
          "name": "stdout"
        }
      ]
    },
    {
      "cell_type": "code",
      "metadata": {
        "id": "YfTgyaVBwMQz",
        "colab_type": "code",
        "colab": {
          "base_uri": "https://localhost:8080/",
          "height": 52
        },
        "outputId": "f6311571-47c2-4bef-f858-00fa640587a4"
      },
      "source": [
        "Filename = input(\"input the filename \")\n",
        "f = Filename.split(\".\")\n",
        "print(\"The extension of the file is: \" +(f[-1]))"
      ],
      "execution_count": 21,
      "outputs": [
        {
          "output_type": "stream",
          "text": [
            "input the filename abc.py\n",
            "The extension of the file is: py\n"
          ],
          "name": "stdout"
        }
      ]
    }
  ]
}